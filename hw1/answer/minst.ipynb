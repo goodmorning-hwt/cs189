{
 "cells": [
  {
   "cell_type": "markdown",
   "id": "ed5519d1",
   "metadata": {},
   "source": [
    "Ex4(a)"
   ]
  },
  {
   "cell_type": "code",
   "execution_count": 2,
   "id": "c1b8f0b5",
   "metadata": {},
   "outputs": [
    {
     "name": "stdout",
     "output_type": "stream",
     "text": [
      "data:  ['training_data', 'training_labels', 'test_data']\n",
      "training_data shape: (60000, 1, 28, 28)\n",
      "training_labels shape: (60000,)\n",
      "test_data shape: (10000, 1, 28, 28)\n"
     ]
    }
   ],
   "source": [
    "import numpy as np\n",
    "\n",
    "data = np.load('../data/mnist-data.npz')\n",
    "print(\"data: \", data.files)\n",
    "for name in data.files:\n",
    "    arr = data[name]\n",
    "    print(f\"{name} shape: {arr.shape}\")\n",
    "    # print(arr)"
   ]
  },
  {
   "cell_type": "code",
   "execution_count": 3,
   "id": "c1923b04",
   "metadata": {},
   "outputs": [],
   "source": [
    "# Shuffle and split MNIST data into training and validation sets\n",
    "\n",
    "def split_mnist_data(X, y, num_val=10000, random_seed=42):\n",
    "    \"\"\"\n",
    "    Shuffle and split MNIST data into training and validation sets.\n",
    "    Args:\n",
    "        X: numpy array of images, shape (N, D)\n",
    "        y: numpy array of labels, shape (N,)\n",
    "        num_val: number of validation samples\n",
    "        random_seed: random seed for reproducibility\n",
    "    Returns:\n",
    "        X_train, y_train, X_val, y_val\n",
    "    \"\"\"\n",
    "    np.random.seed(random_seed)\n",
    "    idx = np.random.permutation(X.shape[0])\n",
    "    X_shuffled = X[idx]\n",
    "    y_shuffled = y[idx]\n",
    "    X_val = X_shuffled[:num_val]\n",
    "    y_val = y_shuffled[:num_val]\n",
    "    X_train = X_shuffled[num_val:]\n",
    "    y_train = y_shuffled[num_val:]\n",
    "    return X_train, y_train, X_val, y_val\n",
    "\n",
    "# Example usage:\n",
    "# X = data['train_images']\n",
    "# y = data['train_labels']\n",
    "# X_train, y_train, X_val, y_val = split_mnist_data(X, y)"
   ]
  },
  {
   "cell_type": "code",
   "execution_count": 4,
   "id": "65260d7a",
   "metadata": {},
   "outputs": [],
   "source": [
    "# Compute classification accuracy\n",
    "\n",
    "def accuracy_score(y_true, y_pred):\n",
    "    \"\"\"\n",
    "    Compute the unweighted classification accuracy.\n",
    "    Args:\n",
    "        y_true: numpy array of true labels, shape (N,)\n",
    "        y_pred: numpy array of predicted labels, shape (N,)\n",
    "    Returns:\n",
    "        accuracy: float, percentage of correct predictions\n",
    "    \"\"\"\n",
    "    return np.mean(y_true == y_pred)"
   ]
  },
  {
   "cell_type": "code",
   "execution_count": 5,
   "id": "df196f17",
   "metadata": {},
   "outputs": [
    {
     "name": "stdout",
     "output_type": "stream",
     "text": [
      "Validation accuracy: 0.1002\n"
     ]
    }
   ],
   "source": [
    "import numpy as np\n",
    "\n",
    "# Load MNIST data\n",
    "data = np.load('../data/mnist-data.npz')\n",
    "X = data['training_data']\n",
    "y = data['training_labels']\n",
    "\n",
    "# Split data into training and validation sets\n",
    "X_train, y_train, X_val, y_val = split_mnist_data(X, y, num_val=10000, random_seed=42)\n",
    "\n",
    "# Example: suppose you have a model and get predictions\n",
    "# Here we use random predictions as a placeholder\n",
    "y_val_pred = np.random.choice(np.unique(y), size=y_val.shape[0])\n",
    "\n",
    "# Compute accuracy on validation set\n",
    "def accuracy_score(y_true, y_pred):\n",
    "    \"\"\"\n",
    "    Compute the unweighted classification accuracy.\n",
    "    Args:\n",
    "        y_true: numpy array of true labels, shape (N,)\n",
    "        y_pred: numpy array of predicted labels, shape (N,)\n",
    "    Returns:\n",
    "        accuracy: float, percentage of correct predictions\n",
    "    \"\"\"\n",
    "    return np.mean(y_true == y_pred)\n",
    "\n",
    "val_accuracy = accuracy_score(y_val, y_val_pred)\n",
    "print(\"Validation accuracy:\", val_accuracy)"
   ]
  },
  {
   "cell_type": "code",
   "execution_count": 8,
   "id": "01844212",
   "metadata": {},
   "outputs": [
    {
     "name": "stdout",
     "output_type": "stream",
     "text": [
      "Validation accuracy (SVM): 0.8999\n"
     ]
    }
   ],
   "source": [
    "from sklearn import svm\n",
    "\n",
    "# Reshape images to (num_samples, num_features)\n",
    "X_train_flat = X_train.reshape(X_train.shape[0], -1)\n",
    "X_val_flat = X_val.reshape(X_val.shape[0], -1)\n",
    "\n",
    "# Train SVM model\n",
    "clf = svm.SVC(kernel='linear')  # You can also try 'rbf' kernel\n",
    "clf.fit(X_train_flat[:5000], y_train[:5000])\n",
    "\n",
    "# Predict on validation set\n",
    "y_val_pred = clf.predict(X_val_flat)\n",
    "\n",
    "# Compute accuracy\n",
    "val_accuracy = accuracy_score(y_val, y_val_pred)\n",
    "print(\"Validation accuracy (SVM):\", val_accuracy)"
   ]
  },
  {
   "cell_type": "code",
   "execution_count": 9,
   "id": "a8721dfc",
   "metadata": {},
   "outputs": [
    {
     "name": "stdout",
     "output_type": "stream",
     "text": [
      "C=0.001, Validation accuracy=0.9079\n",
      "C=0.01, Validation accuracy=0.9079\n",
      "C=0.1, Validation accuracy=0.9079\n",
      "C=1, Validation accuracy=0.9079\n",
      "C=10, Validation accuracy=0.9079\n",
      "C=100, Validation accuracy=0.9079\n",
      "C=1000, Validation accuracy=0.9079\n",
      "C=10000, Validation accuracy=0.9079\n",
      "Best C: 0.001\n"
     ]
    }
   ],
   "source": [
    "from sklearn import svm\n",
    "\n",
    "C_values = [0.001, 0.01, 0.1, 1, 10, 100, 1000, 10000]\n",
    "accuracies = []\n",
    "\n",
    "for C in C_values:\n",
    "    clf = svm.SVC(kernel='linear', C=C)\n",
    "    clf.fit(X_train_flat[:10000], y_train[:10000])  # 至少10000个样本\n",
    "    y_val_pred = clf.predict(X_val_flat)\n",
    "    acc = accuracy_score(y_val, y_val_pred)\n",
    "    print(f\"C={C}, Validation accuracy={acc}\")\n",
    "    accuracies.append(acc)\n",
    "\n",
    "best_C = C_values[np.argmax(accuracies)]\n",
    "print(\"Best C:\", best_C)"
   ]
  },
  {
   "cell_type": "code",
   "execution_count": null,
   "id": "ebdda08f",
   "metadata": {},
   "outputs": [],
   "source": []
  }
 ],
 "metadata": {
  "kernelspec": {
   "display_name": "base",
   "language": "python",
   "name": "python3"
  },
  "language_info": {
   "codemirror_mode": {
    "name": "ipython",
    "version": 3
   },
   "file_extension": ".py",
   "mimetype": "text/x-python",
   "name": "python",
   "nbconvert_exporter": "python",
   "pygments_lexer": "ipython3",
   "version": "3.12.2"
  }
 },
 "nbformat": 4,
 "nbformat_minor": 5
}
